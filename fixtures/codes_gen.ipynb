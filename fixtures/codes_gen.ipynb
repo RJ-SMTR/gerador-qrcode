{
 "cells": [
  {
   "cell_type": "code",
   "execution_count": 6,
   "id": "763902c6-80f6-4742-bc7d-0a591864071c",
   "metadata": {},
   "outputs": [
    {
     "name": "stdout",
     "output_type": "stream",
     "text": [
      "(codegen) "
     ]
    },
    {
     "ename": "",
     "evalue": "1",
     "output_type": "error",
     "traceback": []
    }
   ],
   "source": [
    "python3 -c \"import pandas as pd \n",
    "print(len(pd.read_csv('/home/d/code/SMTR/gerador-qrcode/fixtures/codes.csv')['code'].to_list()))\""
   ]
  },
  {
   "cell_type": "code",
   "execution_count": null,
   "id": "c104f49f-1f9e-4155-890a-51a96940c3c1",
   "metadata": {},
   "outputs": [],
   "source": [
    "python3 ~/code/SMTR/gerador-qrcode/generator.py <qnt>"
   ]
  },
  {
   "cell_type": "code",
   "execution_count": null,
   "id": "e47896c9-1b56-45ce-a31f-e387f3278b9e",
   "metadata": {},
   "outputs": [],
   "source": [
    "python3 -c \"len(pd.read_csv('/home/d/code/SMTR/gerador-qrcode/fixtures/codes.csv')[\"code\"].to_list())\""
   ]
  }
 ],
 "metadata": {
  "kernelspec": {
   "display_name": "Bash",
   "language": "bash",
   "name": "bash"
  },
  "language_info": {
   "codemirror_mode": "shell",
   "file_extension": ".sh",
   "mimetype": "text/x-sh",
   "name": "bash"
  }
 },
 "nbformat": 4,
 "nbformat_minor": 5
}
